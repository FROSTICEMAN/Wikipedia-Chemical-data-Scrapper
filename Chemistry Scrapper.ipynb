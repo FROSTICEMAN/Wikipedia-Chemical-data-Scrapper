{
 "cells": [
  {
   "cell_type": "code",
   "execution_count": 1,
   "metadata": {},
   "outputs": [],
   "source": [
    "import re\n",
    "import urllib\n",
    "import bs4 as bs\n",
    "import re\n",
    "# importing os module  \n",
    "import os \n",
    "    \n",
    "# Directory \n",
    "directory = \"Chemical formulas Scrapper\"\n",
    "    \n",
    "# Parent Directory path\n",
    "parent_dir = os.getcwd()\n",
    "  \n",
    "# Path\n",
    "path = os.path.join(parent_dir, directory)\n",
    "  \n",
    "# Create the directory\n",
    "# 'GeeksForGeeks' in\n",
    "# '/home / User / Documents'\n",
    "os.mkdir(path)\n",
    "os.chdir(path) \n"
   ]
  },
  {
   "cell_type": "code",
   "execution_count": 1,
   "metadata": {},
   "outputs": [],
   "source": [
    "import re\n",
    "import urllib\n",
    "import bs4 as bs\n",
    "import re\n",
    "# importing os module  \n",
    "import os \n",
    "    "
   ]
  },
  {
   "cell_type": "code",
   "execution_count": 2,
   "metadata": {},
   "outputs": [],
   "source": [
    "cwd = os.getcwd()\n",
    "cwd\n",
    "os.chdir('Chemical formulas Scrapper')"
   ]
  },
  {
   "cell_type": "code",
   "execution_count": 2,
   "metadata": {},
   "outputs": [],
   "source": [
    "#Regex extractor\n",
    "with open(r\"C:\\Users\\GhatkaP\\OneDrive - BASF\\Desktop\\Chemicalurl.txt\",encoding=\"utf-8\") as f:\n",
    "    t = f.read().strip()\n",
    "\n",
    "#lists = []\n",
    "m = re.findall(r\"/wiki/\\w*[\\(A-aZ-z-0-9\\.%)-/:!]*\", t, re.MULTILINE)\n",
    "\n",
    "def prepend(list, str):\n",
    " \n",
    "    # Using format()\n",
    "    str += '{0}'\n",
    "    list = [str.format(i) for i in list]\n",
    "    return(list)\n",
    " \n",
    " \n",
    "# Driver function\n",
    "list = m\n",
    "str = 'https://en.wikipedia.org'\n",
    "y =prepend(list, str)\n",
    "\n",
    "# Beautiful Soup Scrapper\n",
    "URL_lst = y\n",
    "for url in URL_lst:\n",
    "    url_end = url.rsplit('/', 1)[-1]\n",
    "    source = urllib.request.urlopen(url).read()\n",
    "    soup = bs.BeautifulSoup(source,\"lxml\")\n",
    "    text = \"\"\n",
    "    for paragraph in soup.find_all('p'):\n",
    "        text += paragraph.text\n",
    "    file_name = url_end + '.txt'\n",
    "    with open(file_name, 'w',encoding=\"utf-8\") as f:\n",
    "        f.write(text) "
   ]
  },
  {
   "cell_type": "code",
   "execution_count": null,
   "metadata": {},
   "outputs": [],
   "source": [
    "#<li><a href=\"/wiki/Ahmed_H._Zewail\" class=\"mw-redirect\" title=\"Ahmed H. Zewail\">Ahmed H. Zewail</a></li>"
   ]
  }
 ],
 "metadata": {
  "kernelspec": {
   "display_name": "ML3",
   "language": "python",
   "name": "python3"
  },
  "language_info": {
   "codemirror_mode": {
    "name": "ipython",
    "version": 3
   },
   "file_extension": ".py",
   "mimetype": "text/x-python",
   "name": "python",
   "nbconvert_exporter": "python",
   "pygments_lexer": "ipython3",
   "version": "3.8.17"
  },
  "orig_nbformat": 4
 },
 "nbformat": 4,
 "nbformat_minor": 2
}
